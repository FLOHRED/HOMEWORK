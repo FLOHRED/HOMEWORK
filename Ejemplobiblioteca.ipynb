{
  "nbformat": 4,
  "nbformat_minor": 0,
  "metadata": {
    "colab": {
      "provenance": [],
      "authorship_tag": "ABX9TyMVtuTBkYz5XL6QvqYMymvK",
      "include_colab_link": true
    },
    "kernelspec": {
      "name": "python3",
      "display_name": "Python 3"
    },
    "language_info": {
      "name": "python"
    }
  },
  "cells": [
    {
      "cell_type": "markdown",
      "metadata": {
        "id": "view-in-github",
        "colab_type": "text"
      },
      "source": [
        "<a href=\"https://colab.research.google.com/github/FLOHRED/HOMEWORK/blob/main/Ejemplobiblioteca.ipynb\" target=\"_parent\"><img src=\"https://colab.research.google.com/assets/colab-badge.svg\" alt=\"Open In Colab\"/></a>"
      ]
    },
    {
      "cell_type": "code",
      "execution_count": 3,
      "metadata": {
        "colab": {
          "base_uri": "https://localhost:8080/"
        },
        "id": "kXxcdRvPLfwC",
        "outputId": "af3fe695-c2ec-45d2-eb28-a88dedb628fb"
      },
      "outputs": [
        {
          "output_type": "stream",
          "name": "stdout",
          "text": [
            "ingrese un pais: argentina\n",
            "ingrese un pais: uruguay\n",
            "ingrese un pais: argentina\n",
            "ingrese un pais: turquia\n",
            "ingrese un pais: usa\n",
            "['argentina', 'uruguay', 'argentina', 'turquia', 'usa']\n",
            "{'usa', 'argentina', 'uruguay', 'turquia'}\n",
            "['argentina', 'turquia', 'uruguay', 'usa']\n"
          ]
        }
      ],
      "source": [
        "lista_paises=[]\n",
        "n=0\n",
        "b=5\n",
        "while n<b:\n",
        "  pais=input('ingrese un pais: ')\n",
        "  n=n+1\n",
        "  lista_paises.append(pais)\n",
        "lista_sinrep=set(lista_paises)\n",
        "lista_ordenada=sorted(lista_sinrep)\n",
        "print(lista_paises)\n",
        "print(lista_sinrep)\n",
        "print(lista_ordenada)\n",
        "\n"
      ]
    },
    {
      "cell_type": "code",
      "source": [],
      "metadata": {
        "id": "UoTwGHeSLm7B"
      },
      "execution_count": null,
      "outputs": []
    }
  ]
}