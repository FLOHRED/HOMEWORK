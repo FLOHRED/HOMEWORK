{
  "nbformat": 4,
  "nbformat_minor": 0,
  "metadata": {
    "colab": {
      "provenance": [],
      "authorship_tag": "ABX9TyMgbdlzDw/QxcEIrj+iKpRA",
      "include_colab_link": true
    },
    "kernelspec": {
      "name": "python3",
      "display_name": "Python 3"
    },
    "language_info": {
      "name": "python"
    }
  },
  "cells": [
    {
      "cell_type": "markdown",
      "metadata": {
        "id": "view-in-github",
        "colab_type": "text"
      },
      "source": [
        "<a href=\"https://colab.research.google.com/github/FLOHRED/HOMEWORK/blob/main/EjercicioPickle.ipynb\" target=\"_parent\"><img src=\"https://colab.research.google.com/assets/colab-badge.svg\" alt=\"Open In Colab\"/></a>"
      ]
    },
    {
      "cell_type": "code",
      "execution_count": null,
      "metadata": {
        "id": "UUMyp6hXYd60"
      },
      "outputs": [],
      "source": [
        "import pickle\n",
        "\n",
        "class Vehículo:\n",
        "    def __init__(self, marca, modelo, color):\n",
        "        self.marca = marca\n",
        "        self.modelo = modelo\n",
        "        self.color = color\n",
        "\n",
        "    def __str__(self):\n",
        "        return f\"{self.color} {self.marca} {self.modelo}\"\n",
        "\n",
        "mi_vehiculo = Vehículo(\"Toyota\", \"Corolla\", \"Rojo\")\n",
        "\n",
        "with open(\"vehiculo.pkl\", \"wb\") as archivo:\n",
        "    pickle.dump(mi_vehiculo, archivo)\n",
        "\n",
        "with open(\"vehiculo.pkl\", \"rb\") as archivo:\n",
        "    vehiculo_cargado = pickle.load(archivo)\n",
        "\n",
        "print(\"El vehículo cargado es:\", vehiculo_cargado)"
      ]
    }
  ]
}