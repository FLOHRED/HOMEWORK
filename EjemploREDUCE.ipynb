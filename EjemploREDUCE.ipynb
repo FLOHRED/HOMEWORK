{
  "nbformat": 4,
  "nbformat_minor": 0,
  "metadata": {
    "colab": {
      "provenance": [],
      "authorship_tag": "ABX9TyPZaQ7q76PvrVBZyrH8y6sr",
      "include_colab_link": true
    },
    "kernelspec": {
      "name": "python3",
      "display_name": "Python 3"
    },
    "language_info": {
      "name": "python"
    }
  },
  "cells": [
    {
      "cell_type": "markdown",
      "metadata": {
        "id": "view-in-github",
        "colab_type": "text"
      },
      "source": [
        "<a href=\"https://colab.research.google.com/github/FLOHRED/HOMEWORK/blob/main/EjemploREDUCE.ipynb\" target=\"_parent\"><img src=\"https://colab.research.google.com/assets/colab-badge.svg\" alt=\"Open In Colab\"/></a>"
      ]
    },
    {
      "cell_type": "code",
      "execution_count": 13,
      "metadata": {
        "colab": {
          "base_uri": "https://localhost:8080/"
        },
        "id": "SS9eXL1SBt4T",
        "outputId": "92b82e5f-5de3-4f86-acc4-cc48f139f35d"
      },
      "outputs": [
        {
          "output_type": "stream",
          "name": "stdout",
          "text": [
            "[1, 7, 9, 3, 1]\n",
            "21\n"
          ]
        }
      ],
      "source": [
        "from functools import reduce\n",
        "lista=[1,2,4,6,7,9,3,1]\n",
        "\n",
        "def es_impar(numero):\n",
        "  return numero %2!=0\n",
        "\n",
        "impares = list(filter(es_impar, lista))\n",
        "\n",
        "print(impares)  # Output: [2, 4, 6, 8, 10]\n",
        "\n",
        "def suma(a,b):\n",
        "  return a+b\n",
        "print(reduce(suma,impares))\n",
        "\n",
        "\n"
      ]
    }
  ]
}