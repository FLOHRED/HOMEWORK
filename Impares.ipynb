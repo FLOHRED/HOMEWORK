{
  "nbformat": 4,
  "nbformat_minor": 0,
  "metadata": {
    "colab": {
      "provenance": [],
      "authorship_tag": "ABX9TyNvKeO1xJwZWw80nLChCIy5",
      "include_colab_link": true
    },
    "kernelspec": {
      "name": "python3",
      "display_name": "Python 3"
    },
    "language_info": {
      "name": "python"
    }
  },
  "cells": [
    {
      "cell_type": "markdown",
      "metadata": {
        "id": "view-in-github",
        "colab_type": "text"
      },
      "source": [
        "<a href=\"https://colab.research.google.com/github/FLOHRED/HOMEWORK/blob/main/Impares.ipynb\" target=\"_parent\"><img src=\"https://colab.research.google.com/assets/colab-badge.svg\" alt=\"Open In Colab\"/></a>"
      ]
    },
    {
      "cell_type": "code",
      "execution_count": 2,
      "metadata": {
        "colab": {
          "base_uri": "https://localhost:8080/"
        },
        "id": "SS9eXL1SBt4T",
        "outputId": "7ebb66f4-c8f2-4944-8b25-a167d83b12fb"
      },
      "outputs": [
        {
          "output_type": "stream",
          "name": "stdout",
          "text": [
            "[1, 7, 9, 3, 1]\n"
          ]
        }
      ],
      "source": [
        "lista=[1,2,4,6,7,9,3,1]\n",
        "\n",
        "def es_impar(numero):\n",
        "  return numero %2!=0\n",
        "\n",
        "impares = list(filter(es_impar, lista))\n",
        "\n",
        "print(impares)  # Output: [2, 4, 6, 8, 10]"
      ]
    }
  ]
}