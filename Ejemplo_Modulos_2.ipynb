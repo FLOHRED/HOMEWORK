{
  "nbformat": 4,
  "nbformat_minor": 0,
  "metadata": {
    "colab": {
      "provenance": [],
      "authorship_tag": "ABX9TyMxrcGVOqpTfK3DmXXMp/HG",
      "include_colab_link": true
    },
    "kernelspec": {
      "name": "python3",
      "display_name": "Python 3"
    },
    "language_info": {
      "name": "python"
    }
  },
  "cells": [
    {
      "cell_type": "markdown",
      "metadata": {
        "id": "view-in-github",
        "colab_type": "text"
      },
      "source": [
        "<a href=\"https://colab.research.google.com/github/FLOHRED/HOMEWORK/blob/main/Ejemplo_Modulos_2.ipynb\" target=\"_parent\"><img src=\"https://colab.research.google.com/assets/colab-badge.svg\" alt=\"Open In Colab\"/></a>"
      ]
    },
    {
      "cell_type": "code",
      "execution_count": 3,
      "metadata": {
        "colab": {
          "base_uri": "https://localhost:8080/"
        },
        "id": "_1P9W6w_p6jq",
        "outputId": "5ffddba5-c79d-446c-c011-3f3264ed6b1c"
      },
      "outputs": [
        {
          "output_type": "stream",
          "name": "stdout",
          "text": [
            "2023-03-06 02:04:45.035445\n"
          ]
        }
      ],
      "source": [
        "import datetime\n",
        "\n",
        "t1 = datetime.datetime.now()\n",
        "print(t1)\n"
      ]
    },
    {
      "cell_type": "code",
      "source": [
        "import datetime\n",
        "import pytz\n",
        "\n",
        "tz = pytz.timezone('America/Argentina/Buenos_Aires')   # zona horaria de Buenos Aires\n",
        "dt = datetime.datetime.now(tz)   # fecha y hora actual en Buenos Aires\n",
        "\n",
        "hora=dt.strftime('%H')\n",
        "limite=19\n",
        "if int(hora)>limite:\n",
        "  print('Momento de ir a casa')\n",
        "\n",
        "print(\"Son las\",hora)\n",
        "print(\"Fecha y hora actual en Buenos Aires:\", dt.strftime(\"%Y-%m-%d %H:%M:%S %Z%z\"))\n"
      ],
      "metadata": {
        "colab": {
          "base_uri": "https://localhost:8080/"
        },
        "id": "82G7D4OBq1Js",
        "outputId": "08437c28-ba4f-49a0-fb18-f5ba22d05b96"
      },
      "execution_count": 16,
      "outputs": [
        {
          "output_type": "stream",
          "name": "stdout",
          "text": [
            "Momento de ir a casa\n",
            "Son las 23\n",
            "Fecha y hora actual en Buenos Aires: 2023-03-05 23:46:18 -03-0300\n"
          ]
        }
      ]
    }
  ]
}