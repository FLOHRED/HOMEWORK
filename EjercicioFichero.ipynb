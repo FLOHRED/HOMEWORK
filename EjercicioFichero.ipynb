{
  "nbformat": 4,
  "nbformat_minor": 0,
  "metadata": {
    "colab": {
      "provenance": [],
      "authorship_tag": "ABX9TyML+tekWm/71T8E1hhF60n0",
      "include_colab_link": true
    },
    "kernelspec": {
      "name": "python3",
      "display_name": "Python 3"
    },
    "language_info": {
      "name": "python"
    }
  },
  "cells": [
    {
      "cell_type": "markdown",
      "metadata": {
        "id": "view-in-github",
        "colab_type": "text"
      },
      "source": [
        "<a href=\"https://colab.research.google.com/github/FLOHRED/HOMEWORK/blob/main/EjercicioFichero.ipynb\" target=\"_parent\"><img src=\"https://colab.research.google.com/assets/colab-badge.svg\" alt=\"Open In Colab\"/></a>"
      ]
    },
    {
      "cell_type": "code",
      "execution_count": 1,
      "metadata": {
        "id": "vte4qzl_2Dz2"
      },
      "outputs": [],
      "source": [
        "archivo = open(\"prueba.txt\", \"w\")\n"
      ]
    },
    {
      "cell_type": "code",
      "source": [
        "archivo.write(\"Genere este archivo.\\n\")\n",
        "archivo.write(\"Esta es otra línea.\\n\")"
      ],
      "metadata": {
        "colab": {
          "base_uri": "https://localhost:8080/"
        },
        "id": "hPSSWHlTF5Uv",
        "outputId": "3d4357a2-d3d0-4c90-ba97-6959534314dd"
      },
      "execution_count": 2,
      "outputs": [
        {
          "output_type": "execute_result",
          "data": {
            "text/plain": [
              "20"
            ]
          },
          "metadata": {},
          "execution_count": 2
        }
      ]
    },
    {
      "cell_type": "code",
      "source": [
        "archivo.close()\n"
      ],
      "metadata": {
        "id": "m3TvEeSRGDHE"
      },
      "execution_count": 3,
      "outputs": []
    },
    {
      "cell_type": "code",
      "source": [
        "with  open('prueba.txt','r') as file:\n",
        "    print(file.read())"
      ],
      "metadata": {
        "colab": {
          "base_uri": "https://localhost:8080/"
        },
        "id": "2s9RtStaGleI",
        "outputId": "86c7d1a4-3b25-49ad-c2c6-c56b5b4465bc"
      },
      "execution_count": 5,
      "outputs": [
        {
          "output_type": "stream",
          "name": "stdout",
          "text": [
            "Genere este archivo.\n",
            "Esta es otra línea.\n",
            "\n"
          ]
        }
      ]
    },
    {
      "cell_type": "code",
      "source": [
        "archivo =open(\"prueba.txt\",\"a\")"
      ],
      "metadata": {
        "id": "CaUVpzveGMUx"
      },
      "execution_count": 4,
      "outputs": []
    },
    {
      "cell_type": "code",
      "source": [
        "archivo.write(\"Una linea mas.\\n\")\n"
      ],
      "metadata": {
        "colab": {
          "base_uri": "https://localhost:8080/"
        },
        "id": "ZfpJ81NqGSUV",
        "outputId": "863ddde3-4229-4f45-e360-79964115305b"
      },
      "execution_count": 7,
      "outputs": [
        {
          "output_type": "execute_result",
          "data": {
            "text/plain": [
              "15"
            ]
          },
          "metadata": {},
          "execution_count": 7
        }
      ]
    },
    {
      "cell_type": "code",
      "source": [
        "archivo.close()\n"
      ],
      "metadata": {
        "id": "tXbHB5XMHvtv"
      },
      "execution_count": 9,
      "outputs": []
    },
    {
      "cell_type": "code",
      "source": [
        "with  open('prueba.txt','r') as file:\n",
        "    print(file.read())"
      ],
      "metadata": {
        "colab": {
          "base_uri": "https://localhost:8080/"
        },
        "id": "fpBpCVYkHtYT",
        "outputId": "07a450bb-6d10-40ba-ca8e-0da6d02bdc21"
      },
      "execution_count": 10,
      "outputs": [
        {
          "output_type": "stream",
          "name": "stdout",
          "text": [
            "Genere este archivo.\n",
            "Esta es otra línea.\n",
            "Una linea mas.\n",
            "\n"
          ]
        }
      ]
    }
  ]
}